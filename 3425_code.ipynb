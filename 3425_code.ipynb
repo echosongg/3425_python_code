{
 "cells": [
  {
   "cell_type": "code",
   "execution_count": 5,
   "id": "732db7eb",
   "metadata": {},
   "outputs": [
    {
     "data": {
      "image/png": "[encoded data removed]",
      "text/plain": [
       "<Figure size 432x288 with 2 Axes>"
      ]
     },
     "metadata": {
      "needs_background": "light"
     },
     "output_type": "display_data"
    }
   ],
   "source": [
    "#draw confusion matrix\n",
    "import matplotlib.pyplot as plt\n",
    "import numpy as np\n",
    "\n",
    "# define confusion matrix\n",
    "conf_matrix = np.array([[93.0,0], [3.5, 3.5]])\n",
    "\n",
    "# get graph\n",
    "fig, ax = plt.subplots()\n",
    "im = ax.imshow(conf_matrix, cmap=plt.cm.Blues)\n",
    "\n",
    "ax.set_xticks(np.arange(len(conf_matrix)))\n",
    "ax.set_yticks(np.arange(len(conf_matrix)))\n",
    "ax.set_xticklabels([\"Predicted 0\", \"Predicted 1\"])\n",
    "ax.set_yticklabels([\"Actual 0\", \"Actual 1\"])\n",
    "\n",
    "# show specific value\n",
    "for i in range(len(conf_matrix)):\n",
    "    for j in range(len(conf_matrix)):\n",
    "        text = ax.text(j, i, conf_matrix[i, j],\n",
    "                       ha=\"center\", va=\"center\", color=\"black\")\n",
    "\n",
    "# set color\n",
    "cbar = ax.figure.colorbar(im, ax=ax)\n",
    "ax.set_title(\"Error matrix for the Neural Net model on 3425_data.csv [test] (proportions)\")\n",
    "plt.show()"
   ]
  },
  {
   "cell_type": "code",
   "execution_count": 28,
   "id": "f175663d",
   "metadata": {},
   "outputs": [
    {
     "name": "stdout",
     "output_type": "stream",
     "text": [
      "          Q9f       Q9g       Q9h       Q9i       Q9g       Q9k\n",
      "Q9f  1.000000  0.016010  0.148307  0.153693  0.016010  0.227547\n",
      "Q9g  0.016010  1.000000  0.007112  0.215558  1.000000  0.215401\n",
      "Q9h  0.148307  0.007112  1.000000  0.360975  0.007112  0.458466\n",
      "Q9i  0.153693  0.215558  0.360975  1.000000  0.215558  0.365578\n",
      "Q9g  0.016010  1.000000  0.007112  0.215558  1.000000  0.215401\n",
      "Q9k  0.227547  0.215401  0.458466  0.365578  0.215401  1.000000\n"
     ]
    }
   ],
   "source": [
    "#Q2 corr\n",
    "import pandas as pd\n",
    "data = pd.read_csv('3425_data .csv')\n",
    "data = data[['p_age_group_sdc', 'Q9f', 'Q9g', 'Q9h' , 'Q9i' , 'Q9g' , 'Q9k']]\n",
    "print(data.corr())"
   ]
  },
  {
   "cell_type": "code",
   "execution_count": 6,
   "id": "023c6613",
   "metadata": {},
   "outputs": [
    {
     "name": "stdout",
     "output_type": "stream",
     "text": [
      "Q1      1.000000\n",
      "Q16c    0.156085\n",
      "Q9c     0.138775\n",
      "Q5c     0.112522\n",
      "Name: Q1, dtype: float64\n"
     ]
    }
   ],
   "source": [
    "#Q3 select attribute\n",
    "import pandas as pd\n",
    "data = pd.read_csv('3425_data .csv')\n",
    "data = data.drop(['SRCID', 'nominal StateMap', 'nominal Q2'], axis=1)\n",
    "correlations = data.corr().abs()\n",
    "sorted_correlations = correlations['Q1'].sort_values(ascending=False)\n",
    "print(sorted_correlations[0:4])"
   ]
  },
  {
   "cell_type": "code",
   "execution_count": 24,
   "id": "1735037f",
   "metadata": {},
   "outputs": [
    {
     "name": "stdout",
     "output_type": "stream",
     "text": [
      "Best parameters:  {'max_depth': 10, 'min_impurity_decrease': 0, 'min_samples_leaf': 3, 'min_samples_split': 5}\n",
      "Best mean squared error:  0.0010600540947014471\n"
     ]
    }
   ],
   "source": [
    "#Q5 b\n",
    "import pandas as pd\n",
    "import numpy as np\n",
    "from sklearn.model_selection import train_test_split, GridSearchCV\n",
    "from sklearn.tree import DecisionTreeRegressor\n",
    "from sklearn.metrics import mean_squared_error, r2_score\n",
    "from sklearn.preprocessing import MinMaxScaler\n",
    "\n",
    "# Load the data and drop any rows containing NaN values\n",
    "data = pd.read_csv('3425_data .csv')\n",
    "data.dropna(inplace=True)\n",
    "\n",
    "# Split the data into features (X) and target (y)\n",
    "X = data[['Q15a', 'Q15b', 'Q15c', 'Q15d', 'Q15e', 'Q15f', 'Q15g', 'Q15h', 'Q15i']]\n",
    "y = data['Q15_safe_gambler']\n",
    "X_train, X_test, y_train, y_test = train_test_split(X, y, test_size=0.25, random_state=42)\n",
    "# Define the parameter grid to search over\n",
    "param_grid = {'max_depth': [10,20,30],\n",
    "              'min_samples_split': [5, 10, 15, 25],\n",
    "              'min_samples_leaf': [3, 5, 7, 9],\n",
    "              'min_impurity_decrease': [0.001, 0.01, 0.1, 0]\n",
    "             }\n",
    "\n",
    "# Create a regression tree model\n",
    "tree = DecisionTreeRegressor(random_state=42)\n",
    "\n",
    "# Perform a grid search over the parameter grid using cross-validation\n",
    "grid_search = GridSearchCV(tree, param_grid, cv=5, scoring='neg_mean_squared_error')\n",
    "grid_search.fit(X_train, y_train)\n",
    "\n",
    "# Print the best parameters and the corresponding mean squared error\n",
    "print(\"Best parameters: \", grid_search.best_params_)\n",
    "print(\"Best mean squared error: \", -grid_search.best_score_)"
   ]
  },
  {
   "cell_type": "code",
   "execution_count": 8,
   "id": "bddb29e6",
   "metadata": {},
   "outputs": [
    {
     "name": "stdout",
     "output_type": "stream",
     "text": [
      "RMSE for test set: 0.014607469209308274\n",
      "R2 score for test set: 0.9506223916411093\n"
     ]
    }
   ],
   "source": [
    "#Q5 get R2 and RMSE\n",
    "from sklearn.tree import DecisionTreeRegressor\n",
    "from sklearn.metrics import mean_squared_error, r2_score\n",
    "\n",
    "# create the decision tree model with the best parameter combination\n",
    "tree_model = DecisionTreeRegressor(min_samples_split=5, min_samples_leaf=3, max_depth=10, ccp_alpha=0)\n",
    "\n",
    "# fit the model to the training data\n",
    "tree_model.fit(X_test, y_test)\n",
    "\n",
    "# make predictions on the test set\n",
    "y_pred = tree_model.predict(X_test)\n",
    "\n",
    "# calculate RMSE and R2 scores for the test set\n",
    "rmse = mean_squared_error(y_test, y_pred, squared=False)\n",
    "r2 = r2_score(y_test, y_pred)\n",
    "\n",
    "# print the results\n",
    "print(\"RMSE for test set: {}\".format(rmse))\n",
    "print(\"R2 score for test set: {}\".format(r2))"
   ]
  },
  {
   "cell_type": "code",
   "execution_count": 25,
   "id": "02364698",
   "metadata": {},
   "outputs": [
    {
     "name": "stdout",
     "output_type": "stream",
     "text": [
      "Best parameters:  {'max_depth': 10, 'min_impurity_decrease': 0.01, 'min_samples_leaf': 3, 'min_samples_split': 5}\n",
      "Best mean squared error:  0.08414671858975362\n"
     ]
    }
   ],
   "source": [
    "#Q6 decision tree grid search\n",
    "import pandas as pd\n",
    "from sklearn.tree import DecisionTreeRegressor\n",
    "from sklearn.model_selection import train_test_split,GridSearchCV\n",
    "\n",
    "# Load the data and drop any rows containing NaN values\n",
    "data = pd.read_csv('3425_data .csv')\n",
    "data.replace(' ', np.nan, inplace=True)  # 将空白值替换为NaN\n",
    "data = data.drop(['nominal Q2', 'Q4', 'SRCID','nominal StateMap'], axis=1)\n",
    "data.dropna(inplace=True)\n",
    "# Split the data into features (X) and target (y)\n",
    "y = data['binary undecided voter']\n",
    "X = data.drop(['binary undecided voter'], axis=1)\n",
    "X_train, X_test, y_train, y_test = train_test_split(X, y, test_size=0.25, random_state=42)\n",
    "# Define the parameter grid to search over\n",
    "param_grid = {'max_depth': [10,20,30],\n",
    "              'min_samples_split': [5, 10, 15, 25],\n",
    "              'min_samples_leaf': [3, 5, 7, 9],\n",
    "              'min_impurity_decrease': [0.001, 0.01, 0.1, 0]\n",
    "             }\n",
    "# Create a regression tree model\n",
    "tree = DecisionTreeRegressor(random_state=42)\n",
    "# Perform a grid search over the parameter grid using cross-validation\n",
    "grid_search = GridSearchCV(tree, param_grid, cv=5, scoring='neg_mean_squared_error')\n",
    "grid_search.fit(X_train, y_train)\n",
    "\n",
    "# Print the best parameters and the corresponding mean squared error\n",
    "print(\"Best parameters: \", grid_search.best_params_)\n",
    "print(\"Best mean squared error: \", -grid_search.best_score_)"
   ]
  },
  {
   "cell_type": "code",
   "execution_count": 27,
   "id": "174d8f76",
   "metadata": {},
   "outputs": [
    {
     "name": "stdout",
     "output_type": "stream",
     "text": [
      "Best parameters found:\n",
      " {'activation': 'relu', 'hidden_layer_sizes': (10,), 'learning_rate_init': 0.1, 'solver': 'adam'}\n",
      "Accuracy: 0.9352941176470588\n"
     ]
    },
    {
     "name": "stderr",
     "output_type": "stream",
     "text": [
      "D:\\360Downloads\\anaconda\\lib\\site-packages\\sklearn\\neural_network\\_multilayer_perceptron.py:614: ConvergenceWarning: Stochastic Optimizer: Maximum iterations (100) reached and the optimization hasn't converged yet.\n",
      "  warnings.warn(\n"
     ]
    }
   ],
   "source": [
    "#Q6  nerual network\n",
    "import pandas as pd\n",
    "from sklearn.model_selection import GridSearchCV, train_test_split\n",
    "from sklearn.neural_network import MLPClassifier\n",
    "import numpy as np\n",
    "data = pd.read_csv('3425_data_Q6.csv')\n",
    "# prepare data\n",
    "y = data['TNM_binary.undecided.voter']\n",
    "\n",
    "X = data.drop(['TNM_binary.undecided.voter'], axis=1)\n",
    "X_train, X_test, y_train, y_test = train_test_split(X, y, test_size=0.25, random_state=42)\n",
    "# define classifier\n",
    "mlp = MLPClassifier(max_iter=100)\n",
    "\n",
    "# varied parameter\n",
    "parameter_space = {\n",
    "    'hidden_layer_sizes': [(10,), (15,),(20,),(25,), (30,),(40,)],\n",
    "    'activation': ['relu', 'tanh', 'logistic'],\n",
    "    'solver': ['sgd', 'adam'],\n",
    "    'learning_rate_init': [0.001, 0.01, 0.1]\n",
    "}\n",
    "\n",
    "# grid search\n",
    "clf = GridSearchCV(mlp, parameter_space, n_jobs=-1, cv=5)\n",
    "clf.fit(X_train, y_train)\n",
    "\n",
    "# output the best parameter group and accuracy\n",
    "print('Best parameters found:\\n', clf.best_params_)\n",
    "print('Accuracy:', clf.best_score_)"
   ]
  },
  {
   "cell_type": "code",
   "execution_count": 51,
   "id": "9569cd2f",
   "metadata": {},
   "outputs": [
    {
     "name": "stdout",
     "output_type": "stream",
     "text": [
      "[[53  0]\n",
      " [ 2  2]]\n",
      "              precision    recall  f1-score   support\n",
      "\n",
      "           0       0.96      1.00      0.98        53\n",
      "           1       1.00      0.50      0.67         4\n",
      "\n",
      "    accuracy                           0.96        57\n",
      "   macro avg       0.98      0.75      0.82        57\n",
      "weighted avg       0.97      0.96      0.96        57\n",
      "\n"
     ]
    },
    {
     "name": "stderr",
     "output_type": "stream",
     "text": [
      "D:\\360Downloads\\anaconda\\lib\\site-packages\\sklearn\\neural_network\\_multilayer_perceptron.py:614: ConvergenceWarning: Stochastic Optimizer: Maximum iterations (200) reached and the optimization hasn't converged yet.\n",
      "  warnings.warn(\n"
     ]
    },
    {
     "data": {
      "image/png": "[encoded data removed]",
      "text/plain": [
       "<Figure size 432x288 with 1 Axes>"
      ]
     },
     "metadata": {
      "needs_background": "light"
     },
     "output_type": "display_data"
    }
   ],
   "source": [
    "#Q7 get confusion matrix and ROC\n",
    "from sklearn.metrics import confusion_matrix, plot_roc_curve\n",
    "best_mlp = MLPClassifier(hidden_layer_sizes=(15,), activation='relu', solver='adam', \n",
    "                         learning_rate_init=0.1, random_state=42)\n",
    "y_pred = best_mlp.fit(X_train, y_train).predict(X_test)\n",
    "cm = confusion_matrix(y_test, y_pred)\n",
    "print(cm)\n",
    "plot_roc_curve(best_mlp, X_test, y_test)\n",
    "\n",
    "print(classification_report(y_test, y_pred))"
   ]
  },
  {
   "cell_type": "code",
   "execution_count": 4,
   "id": "1695d408",
   "metadata": {},
   "outputs": [
    {
     "name": "stderr",
     "output_type": "stream",
     "text": [
      "D:\\360Downloads\\anaconda\\lib\\site-packages\\pandas\\util\\_decorators.py:311: SettingWithCopyWarning: \n",
      "A value is trying to be set on a copy of a slice from a DataFrame\n",
      "\n",
      "See the caveats in the documentation: https://pandas.pydata.org/pandas-docs/stable/user_guide/indexing.html#returning-a-view-versus-a-copy\n",
      "  return func(*args, **kwargs)\n",
      "D:\\360Downloads\\anaconda\\lib\\site-packages\\sklearn\\cluster\\_kmeans.py:881: UserWarning: KMeans is known to have a memory leak on Windows with MKL, when there are less chunks than available threads. You can avoid it by setting the environment variable OMP_NUM_THREADS=2.\n",
      "  warnings.warn(\n"
     ]
    },
    {
     "data": {
      "image/png": "[encoded data removed]",
      "text/plain": [
       "<Figure size 432x288 with 1 Axes>"
      ]
     },
     "metadata": {
      "needs_background": "light"
     },
     "output_type": "display_data"
    }
   ],
   "source": [
    "#Q7\n",
    "import pandas as pd\n",
    "from sklearn.cluster import KMeans\n",
    "import matplotlib.pyplot as plt\n",
    "import numpy as np\n",
    "# Load the dataset\n",
    "data = pd.read_csv(\"3425_Q7.csv\")\n",
    "# Subset the desired variables\n",
    "subset = data[['Q1', 'p_age_group_sdc', 'p_education_sdc', 'Q5a', 'Q5c']]\n",
    "# Remove rows with missing values\n",
    "subset.dropna(inplace=True)\n",
    "# Rescale the variables to fall in the range [0-1]\n",
    "subset = (subset - subset.min()) / (subset.max() - subset.min())\n",
    "# Determine the optimal number of clusters using the elbow method\n",
    "wcss = []\n",
    "for i in range(1, 26):\n",
    "    kmeans = KMeans(n_clusters=i, init='k-means++', max_iter=300, n_init=10, random_state=0)\n",
    "    kmeans.fit(subset)\n",
    "    wcss.append(kmeans.inertia_)\n",
    "plt.plot(range(1, 26), wcss)\n",
    "plt.title('Elbow Method')\n",
    "plt.xlabel('Number of Clusters')\n",
    "plt.ylabel('WCSS')\n",
    "plt.show()"
   ]
  },
  {
   "cell_type": "code",
   "execution_count": 29,
   "id": "b4a21ca2",
   "metadata": {},
   "outputs": [
    {
     "name": "stdout",
     "output_type": "stream",
     "text": [
      "within-cluster sum of squares： 22.83605200859889\n"
     ]
    }
   ],
   "source": [
    "kmeans = KMeans(n_clusters=5, init='k-means++', max_iter=300, n_init=10, random_state=0)\n",
    "kmeans.fit(subset)\n",
    "print(\"within-cluster sum of squares：\", kmeans.inertia_)"
   ]
  },
  {
   "cell_type": "code",
   "execution_count": 16,
   "id": "b0f280b7",
   "metadata": {},
   "outputs": [
    {
     "name": "stdout",
     "output_type": "stream",
     "text": [
      "Q1                 2.63\n",
      "p_age_group_sdc    1.83\n",
      "p_education_sdc    1.00\n",
      "Q5a                1.59\n",
      "Q5c                1.77\n",
      "dtype: float64\n",
      "Q1                 1.600000\n",
      "p_age_group_sdc    3.600000\n",
      "p_education_sdc    3.000000\n",
      "Q5a                0.600000\n",
      "Q5c                0.884211\n",
      "dtype: float64\n",
      "Q1                 2.873874\n",
      "p_age_group_sdc    3.621622\n",
      "p_education_sdc    1.000000\n",
      "Q5a               -0.225225\n",
      "Q5c                2.045045\n",
      "dtype: float64\n",
      "Q1                 1.781250\n",
      "p_age_group_sdc    1.718750\n",
      "p_education_sdc    2.479167\n",
      "Q5a                1.750000\n",
      "Q5c                1.750000\n",
      "dtype: float64\n",
      "Q1                 2.753623\n",
      "p_age_group_sdc    3.507246\n",
      "p_education_sdc    2.000000\n",
      "Q5a                1.710145\n",
      "Q5c                1.840580\n",
      "dtype: float64\n"
     ]
    },
    {
     "name": "stderr",
     "output_type": "stream",
     "text": [
      "D:\\360Downloads\\anaconda\\lib\\site-packages\\pandas\\util\\_decorators.py:311: SettingWithCopyWarning: \n",
      "A value is trying to be set on a copy of a slice from a DataFrame\n",
      "\n",
      "See the caveats in the documentation: https://pandas.pydata.org/pandas-docs/stable/user_guide/indexing.html#returning-a-view-versus-a-copy\n",
      "  return func(*args, **kwargs)\n"
     ]
    }
   ],
   "source": [
    "import numpy as np\n",
    "from sklearn.cluster import KMeans\n",
    "# Subset the desired variables\n",
    "subset = data[['Q1', 'p_age_group_sdc', 'p_education_sdc', 'Q5a', 'Q5c']]\n",
    "subset.dropna(inplace=True)\n",
    "min_vals = np.min(subset, axis=0)\n",
    "max_vals = np.max(subset, axis=0)\n",
    "#get the center scale back\n",
    "for i in range(len(kmeans.cluster_centers_)):\n",
    "    print(kmeans.cluster_centers_[i] * (max_vals - min_vals) + min_vals)"
   ]
  }
 ],
 "metadata": {
  "kernelspec": {
   "display_name": "Python 3 (ipykernel)",
   "language": "python",
   "name": "python3"
  },
  "language_info": {
   "codemirror_mode": {
    "name": "ipython",
    "version": 3
   },
   "file_extension": ".py",
   "mimetype": "text/x-python",
   "name": "python",
   "nbconvert_exporter": "python",
   "pygments_lexer": "ipython3",
   "version": "3.9.7"
  }
 },
 "nbformat": 4,
 "nbformat_minor": 5
}
